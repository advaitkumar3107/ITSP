{
 "cells": [
  {
   "cell_type": "code",
   "execution_count": null,
   "metadata": {},
   "outputs": [],
   "source": [
    "import cv2\n",
    "import numpy as np\n",
    "import math\n",
    "\n",
    "def findLetters(binary, path):\n",
    "\tinverted = cv2.bitwise_not(binary)\n",
    "\n",
    "\t#Detect centers of letters or their parts\n",
    "\tcontours,hierarchy = cv2.findContours(inverted, cv2.RETR_EXTERNAL, cv2.CHAIN_APPROX_SIMPLE)\n",
    "\tcenters = []\n",
    "\tfor contour in contours:\n",
    "\t\tx,y,w,h = cv2.boundingRect(contour)\n",
    "\t\tcenters.append([int(x+w/2),int(y+h/2)])\n",
    "\tcenters.sort(key = lambda c: c[0])\n",
    "\t\n",
    "\t#Join some of the broken letters (only leters broken by horizontal gaps are joined)\n",
    "\tfor i in range(1,len(centers)):\n",
    "\t\tx1,y1 = centers[i-1]\n",
    "\t\tx2,y2 = centers[i]\n",
    "\t\ttheta = math.atan2(y2-y1, x2-x1)*180/math.pi\n",
    "\t\tif abs(abs(theta)-90)<=20:\n",
    "\t\t\tcv2.line(inverted, (x1,y1), (x2,y2), 255, 2)\n",
    "\n",
    "\t#Detect letters again\n",
    "\trectangles = []\n",
    "\tcontours,hierarchy = cv2.findContours(inverted, cv2.RETR_EXTERNAL, cv2.CHAIN_APPROX_SIMPLE)\n",
    "\tfor contour in contours:\n",
    "\t\tx,y,w,h = cv2.boundingRect(contour)\n",
    "\t\trectangles.append([x,w])\n",
    "\n",
    "\t#Scan and store letters in a folder from left to right\n",
    "\ti=1\n",
    "\trectangles.sort(key = lambda r: r[0])\n",
    "\tfor rectangle in rectangles:\n",
    "\t\tx,w = rectangle\n",
    "\t\tletter = binary[:,x:x+w].copy()\n",
    "\t\tcv2.imwrite(path + \"/letter%d.jpg\" %i, letter)\n",
    "\t\ti+=1"
   ]
  }
 ],
 "metadata": {
  "kernelspec": {
   "display_name": "Python 3",
   "language": "python",
   "name": "python3"
  },
  "language_info": {
   "codemirror_mode": {
    "name": "ipython",
    "version": 3
   },
   "file_extension": ".py",
   "mimetype": "text/x-python",
   "name": "python",
   "nbconvert_exporter": "python",
   "pygments_lexer": "ipython3",
   "version": "3.7.3"
  }
 },
 "nbformat": 4,
 "nbformat_minor": 2
}
