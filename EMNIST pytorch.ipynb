{
 "cells": [
  {
   "cell_type": "code",
   "execution_count": 2,
   "metadata": {},
   "outputs": [],
   "source": [
    "# importing the required libraries\n",
    "import torch\n",
    "import torchvision\n",
    "import matplotlib.pyplot as plt\n",
    "import torch.nn as nn\n",
    "import torch.nn.functional as F\n",
    "import torch.optim as optim\n",
    "import numpy as np\n",
    "import cv2"
   ]
  },
  {
   "cell_type": "code",
   "execution_count": 3,
   "metadata": {},
   "outputs": [],
   "source": [
    "# importing the training data from the training file already present in EMNIST dataset\n",
    "training = torch.utils.data.DataLoader(torchvision.datasets.EMNIST(root = '/results/', split = 'letters' , train = True, download = True, transform = torchvision.transforms.Compose([                 lambda img: torchvision.transforms.functional.rotate(img, -90),\n",
    "                    lambda img: torchvision.transforms.functional.hflip(img),torchvision.transforms.ToTensor()])),batch_size = 50, shuffle = True)\n",
    "# importing the testing data\n",
    "testing = torch.utils.data.DataLoader(torchvision.datasets.EMNIST(root = '/results/', split = 'letters' , train = False, download = True, transform = torchvision.transforms.Compose([                 lambda img: torchvision.transforms.functional.rotate(img, -90),\n",
    "                    lambda img: torchvision.transforms.functional.hflip(img),torchvision.transforms.ToTensor()])),batch_size = 1000, shuffle = True)\n",
    "\n"
   ]
  },
  {
   "cell_type": "code",
   "execution_count": 4,
   "metadata": {},
   "outputs": [],
   "source": [
    "# creating variables to check the testing data\n",
    "examples = enumerate(testing)\n",
    "batch_idx, (example_data, example_targets) = next(examples)"
   ]
  },
  {
   "cell_type": "code",
   "execution_count": 5,
   "metadata": {},
   "outputs": [
    {
     "data": {
      "text/plain": [
       "torch.Size([1000, 1, 28, 28])"
      ]
     },
     "execution_count": 5,
     "metadata": {},
     "output_type": "execute_result"
    }
   ],
   "source": [
    "example_data.shape"
   ]
  },
  {
   "cell_type": "code",
   "execution_count": 6,
   "metadata": {},
   "outputs": [
    {
     "data": {
      "text/plain": [
       "torch.Size([1000])"
      ]
     },
     "execution_count": 6,
     "metadata": {},
     "output_type": "execute_result"
    }
   ],
   "source": [
    "example_targets.shape"
   ]
  },
  {
   "cell_type": "code",
   "execution_count": 7,
   "metadata": {
    "scrolled": true
   },
   "outputs": [
    {
     "data": {
      "text/plain": [
       "tensor([[0.0000, 0.0000, 0.0000, 0.0000, 0.0000, 0.0000, 0.0000, 0.0000, 0.0000,\n",
       "         0.0000, 0.0000, 0.0000, 0.0000, 0.0000, 0.0000, 0.0000, 0.0000, 0.0000,\n",
       "         0.0000, 0.0000, 0.0000, 0.0000, 0.0000, 0.0000, 0.0000, 0.0000, 0.0000,\n",
       "         0.0000],\n",
       "        [0.0000, 0.0000, 0.0000, 0.0000, 0.0000, 0.0000, 0.0000, 0.0000, 0.0000,\n",
       "         0.0000, 0.0000, 0.0000, 0.0000, 0.0000, 0.0000, 0.0000, 0.0000, 0.0000,\n",
       "         0.0000, 0.0000, 0.0000, 0.0000, 0.0000, 0.0000, 0.0000, 0.0000, 0.0000,\n",
       "         0.0000],\n",
       "        [0.0000, 0.0000, 0.0000, 0.0000, 0.0000, 0.0000, 0.0000, 0.0000, 0.0000,\n",
       "         0.0000, 0.0000, 0.0000, 0.0000, 0.0000, 0.0000, 0.0000, 0.0000, 0.0000,\n",
       "         0.0275, 0.1255, 0.0706, 0.0196, 0.0000, 0.0000, 0.0000, 0.0000, 0.0000,\n",
       "         0.0000],\n",
       "        [0.0000, 0.0000, 0.0000, 0.0000, 0.0000, 0.0000, 0.0000, 0.0000, 0.0000,\n",
       "         0.0000, 0.0000, 0.0000, 0.0000, 0.0000, 0.0000, 0.0000, 0.0000, 0.0275,\n",
       "         0.3529, 0.7804, 0.4784, 0.1765, 0.0000, 0.0000, 0.0000, 0.0000, 0.0000,\n",
       "         0.0000],\n",
       "        [0.0000, 0.0000, 0.0000, 0.0000, 0.0000, 0.0000, 0.0000, 0.0000, 0.0000,\n",
       "         0.0000, 0.0000, 0.0000, 0.0000, 0.0000, 0.0000, 0.0000, 0.0000, 0.1255,\n",
       "         0.7922, 0.9882, 0.8000, 0.4471, 0.0157, 0.0000, 0.0000, 0.0000, 0.0000,\n",
       "         0.0000],\n",
       "        [0.0000, 0.0000, 0.0000, 0.0000, 0.0000, 0.0000, 0.0000, 0.0000, 0.0000,\n",
       "         0.0000, 0.0000, 0.0000, 0.0000, 0.0000, 0.0000, 0.0000, 0.0000, 0.1451,\n",
       "         0.8510, 0.9961, 0.8000, 0.4471, 0.0157, 0.0000, 0.0000, 0.0000, 0.0000,\n",
       "         0.0000],\n",
       "        [0.0000, 0.0000, 0.0000, 0.0000, 0.0000, 0.0000, 0.0000, 0.0000, 0.0000,\n",
       "         0.0000, 0.0000, 0.0000, 0.0000, 0.0000, 0.0000, 0.0000, 0.0000, 0.1451,\n",
       "         0.8510, 0.9843, 0.5529, 0.2000, 0.0000, 0.0000, 0.0000, 0.0000, 0.0000,\n",
       "         0.0000],\n",
       "        [0.0000, 0.0000, 0.0000, 0.0000, 0.0000, 0.0000, 0.0000, 0.0000, 0.0118,\n",
       "         0.0078, 0.0000, 0.0000, 0.0000, 0.0000, 0.0000, 0.0000, 0.0000, 0.1451,\n",
       "         0.8510, 0.9843, 0.5529, 0.2000, 0.0000, 0.0000, 0.0000, 0.0000, 0.0000,\n",
       "         0.0000],\n",
       "        [0.0000, 0.0000, 0.0000, 0.0000, 0.0000, 0.0000, 0.0275, 0.1255, 0.4353,\n",
       "         0.2471, 0.0078, 0.0000, 0.0000, 0.0000, 0.0000, 0.0000, 0.0000, 0.1451,\n",
       "         0.8510, 0.9922, 0.7490, 0.3961, 0.0118, 0.0000, 0.0000, 0.0000, 0.0000,\n",
       "         0.0000],\n",
       "        [0.0000, 0.0000, 0.0000, 0.0000, 0.0000, 0.0000, 0.0863, 0.3059, 0.7765,\n",
       "         0.4235, 0.0157, 0.0000, 0.0000, 0.0000, 0.0000, 0.0000, 0.0000, 0.1529,\n",
       "         0.8549, 0.9882, 0.6627, 0.3137, 0.0078, 0.0000, 0.0000, 0.0000, 0.0000,\n",
       "         0.0000],\n",
       "        [0.0000, 0.0000, 0.0000, 0.0000, 0.0000, 0.0078, 0.3216, 0.6706, 0.9686,\n",
       "         0.4980, 0.0157, 0.0000, 0.0000, 0.0000, 0.0000, 0.0000, 0.0078, 0.3216,\n",
       "         0.9137, 0.8627, 0.3098, 0.0863, 0.0000, 0.0000, 0.0000, 0.0000, 0.0000,\n",
       "         0.0000],\n",
       "        [0.0000, 0.0000, 0.0000, 0.0000, 0.0000, 0.0157, 0.4941, 0.8471, 0.9804,\n",
       "         0.4980, 0.0157, 0.0000, 0.0000, 0.0000, 0.0000, 0.0000, 0.0196, 0.4980,\n",
       "         0.9647, 0.5529, 0.0431, 0.0039, 0.0000, 0.0000, 0.0000, 0.0000, 0.0000,\n",
       "         0.0000],\n",
       "        [0.0000, 0.0000, 0.0000, 0.0000, 0.0000, 0.0157, 0.4980, 0.8510, 0.9804,\n",
       "         0.4980, 0.0157, 0.0000, 0.0000, 0.0000, 0.0000, 0.0000, 0.0863, 0.6784,\n",
       "         0.9725, 0.4980, 0.0157, 0.0000, 0.0000, 0.0000, 0.0000, 0.0000, 0.0000,\n",
       "         0.0000],\n",
       "        [0.0000, 0.0000, 0.0000, 0.0000, 0.0000, 0.0157, 0.4980, 0.8510, 0.9804,\n",
       "         0.4980, 0.0157, 0.0000, 0.0000, 0.0000, 0.0000, 0.0078, 0.3216, 0.9098,\n",
       "         0.9608, 0.4471, 0.0157, 0.0000, 0.0000, 0.0000, 0.0000, 0.0000, 0.0000,\n",
       "         0.0000],\n",
       "        [0.0000, 0.0000, 0.0000, 0.0000, 0.0000, 0.0157, 0.4980, 0.8510, 0.9804,\n",
       "         0.4980, 0.0157, 0.0000, 0.0000, 0.0000, 0.0000, 0.0353, 0.5451, 0.9765,\n",
       "         0.8196, 0.1804, 0.0000, 0.0000, 0.0000, 0.0000, 0.0000, 0.0000, 0.0000,\n",
       "         0.0000],\n",
       "        [0.0000, 0.0000, 0.0000, 0.0000, 0.0000, 0.0157, 0.4980, 0.8510, 0.9804,\n",
       "         0.5059, 0.0196, 0.0000, 0.0000, 0.0000, 0.0000, 0.1333, 0.8039, 0.9608,\n",
       "         0.4980, 0.0353, 0.0000, 0.0000, 0.0000, 0.0000, 0.0000, 0.0000, 0.0000,\n",
       "         0.0000],\n",
       "        [0.0000, 0.0000, 0.0000, 0.0000, 0.0000, 0.0157, 0.4980, 0.8510, 0.9882,\n",
       "         0.6745, 0.0824, 0.0000, 0.0000, 0.0000, 0.0275, 0.3765, 0.9176, 0.8706,\n",
       "         0.2000, 0.0000, 0.0000, 0.0000, 0.0000, 0.0000, 0.0000, 0.0000, 0.0000,\n",
       "         0.0000],\n",
       "        [0.0000, 0.0000, 0.0000, 0.0000, 0.0000, 0.0157, 0.4980, 0.8510, 1.0000,\n",
       "         0.8471, 0.1451, 0.0000, 0.0000, 0.0157, 0.1333, 0.7961, 0.9922, 0.8000,\n",
       "         0.1255, 0.0000, 0.0000, 0.0000, 0.0000, 0.0000, 0.0000, 0.0000, 0.0000,\n",
       "         0.0000],\n",
       "        [0.0000, 0.0000, 0.0000, 0.0000, 0.0000, 0.0157, 0.4941, 0.8471, 1.0000,\n",
       "         0.8510, 0.1451, 0.0000, 0.0039, 0.1412, 0.3765, 0.9176, 0.9647, 0.4980,\n",
       "         0.0314, 0.0000, 0.0000, 0.0000, 0.0000, 0.0000, 0.0000, 0.0000, 0.0000,\n",
       "         0.0000],\n",
       "        [0.0000, 0.0000, 0.0000, 0.0000, 0.0000, 0.0157, 0.4471, 0.8000, 0.9961,\n",
       "         0.8510, 0.1451, 0.0000, 0.0275, 0.3569, 0.6431, 0.9725, 0.9098, 0.3255,\n",
       "         0.0118, 0.0000, 0.0000, 0.0000, 0.0000, 0.0000, 0.0000, 0.0000, 0.0000,\n",
       "         0.0000],\n",
       "        [0.0000, 0.0000, 0.0000, 0.0000, 0.0000, 0.0000, 0.1961, 0.5451, 0.9804,\n",
       "         0.8706, 0.2039, 0.0118, 0.1843, 0.8118, 0.9569, 0.9882, 0.6706, 0.0863,\n",
       "         0.0000, 0.0000, 0.0000, 0.0000, 0.0000, 0.0000, 0.0000, 0.0000, 0.0000,\n",
       "         0.0000],\n",
       "        [0.0000, 0.0000, 0.0000, 0.0000, 0.0000, 0.0000, 0.0824, 0.3216, 0.9098,\n",
       "         0.9725, 0.6471, 0.2627, 0.6471, 0.9725, 0.9922, 0.8588, 0.3098, 0.0118,\n",
       "         0.0000, 0.0000, 0.0000, 0.0000, 0.0000, 0.0000, 0.0000, 0.0000, 0.0000,\n",
       "         0.0000],\n",
       "        [0.0000, 0.0000, 0.0000, 0.0000, 0.0000, 0.0000, 0.0118, 0.0863, 0.6706,\n",
       "         0.9882, 0.9725, 0.8902, 0.9725, 0.9882, 0.9137, 0.3765, 0.0353, 0.0000,\n",
       "         0.0000, 0.0000, 0.0000, 0.0000, 0.0000, 0.0000, 0.0000, 0.0000, 0.0000,\n",
       "         0.0000],\n",
       "        [0.0000, 0.0000, 0.0000, 0.0000, 0.0000, 0.0000, 0.0000, 0.0118, 0.3098,\n",
       "         0.8549, 0.9804, 0.9922, 0.9804, 0.8549, 0.6235, 0.0863, 0.0000, 0.0000,\n",
       "         0.0000, 0.0000, 0.0000, 0.0000, 0.0000, 0.0000, 0.0000, 0.0000, 0.0000,\n",
       "         0.0000],\n",
       "        [0.0000, 0.0000, 0.0000, 0.0000, 0.0000, 0.0000, 0.0000, 0.0000, 0.0314,\n",
       "         0.3020, 0.5451, 0.7490, 0.5451, 0.3020, 0.1294, 0.0039, 0.0000, 0.0000,\n",
       "         0.0000, 0.0000, 0.0000, 0.0000, 0.0000, 0.0000, 0.0000, 0.0000, 0.0000,\n",
       "         0.0000],\n",
       "        [0.0000, 0.0000, 0.0000, 0.0000, 0.0000, 0.0000, 0.0000, 0.0000, 0.0000,\n",
       "         0.0078, 0.0353, 0.1098, 0.0353, 0.0078, 0.0000, 0.0000, 0.0000, 0.0000,\n",
       "         0.0000, 0.0000, 0.0000, 0.0000, 0.0000, 0.0000, 0.0000, 0.0000, 0.0000,\n",
       "         0.0000],\n",
       "        [0.0000, 0.0000, 0.0000, 0.0000, 0.0000, 0.0000, 0.0000, 0.0000, 0.0000,\n",
       "         0.0000, 0.0000, 0.0000, 0.0000, 0.0000, 0.0000, 0.0000, 0.0000, 0.0000,\n",
       "         0.0000, 0.0000, 0.0000, 0.0000, 0.0000, 0.0000, 0.0000, 0.0000, 0.0000,\n",
       "         0.0000],\n",
       "        [0.0000, 0.0000, 0.0000, 0.0000, 0.0000, 0.0000, 0.0000, 0.0000, 0.0000,\n",
       "         0.0000, 0.0000, 0.0000, 0.0000, 0.0000, 0.0000, 0.0000, 0.0000, 0.0000,\n",
       "         0.0000, 0.0000, 0.0000, 0.0000, 0.0000, 0.0000, 0.0000, 0.0000, 0.0000,\n",
       "         0.0000]])"
      ]
     },
     "execution_count": 7,
     "metadata": {},
     "output_type": "execute_result"
    },
    {
     "data": {
      "image/png": "[encoded data removed]",
      "text/plain": [
       "<Figure size 432x288 with 9 Axes>"
      ]
     },
     "metadata": {},
     "output_type": "display_data"
    }
   ],
   "source": [
    "# creating a visual representation of the data which will be using, for better understanding\n",
    "fig = plt.figure()\n",
    "for i in range(9):\n",
    "    plt.subplot(3,3,i+1)\n",
    "    plt.tight_layout()\n",
    "    plt.imshow(example_data[i][0])\n",
    "    plt.title(\"actual value: {}\".format(example_targets[i]))\n",
    "    plt.xticks([])\n",
    "    plt.yticks([])\n",
    "fig\n",
    "example_data[0][0]   \n",
    "    "
   ]
  },
  {
   "cell_type": "code",
   "execution_count": 8,
   "metadata": {},
   "outputs": [],
   "source": [
    "# creating the neural network class. this class will consist of 1 convolutional layer, 1 max pooling layer and 3 linear layers for now. these layers will be connected by the widely used ReLU activation function. we will be using the Log softmax function for the output layer. these parameters will be varied during the subsequent runs to improve the accuracy\n",
    "class Net(nn.Module):\n",
    "    def __init__(self):\n",
    "        super(Net,self).__init__()\n",
    "#         input is 1X28X28, output is 26 letters\n",
    "        self.conv1 = nn.Conv2d(1, 10, kernel_size=3, stride=1, padding=1)\n",
    "        self.conv2 = nn.Conv2d(10, 20, kernel_size = 3, stride = 1, padding = 1)\n",
    "        self.conv3 = nn.Conv2d(20, 30, kernel_size = 3, stride = 1, padding = 1)\n",
    "        self.pool1 = nn.MaxPool2d(kernel_size=2, stride=2, padding=0)\n",
    "        self.pool2 = nn.MaxPool2d(kernel_size = 2, stride = 2, padding = 0)\n",
    "        self.pool3 = nn.MaxPool2d(kernel_size = 2, stride = 2, padding = 0)\n",
    "        self.fc1 = nn.Linear(30 * 3 * 3, 150)\n",
    "        self.fc2 = nn.Linear(150, 27)\n",
    "        \n",
    "    def forward(self, x):\n",
    "        x = F.leaky_relu(self.conv1(x),0.01)\n",
    "        x = self.pool1(x)\n",
    "        x = F.leaky_relu(self.conv2(x),0.01)\n",
    "        x = self.pool2(x)\n",
    "        x = F.leaky_relu(self.conv3(x),0.01)\n",
    "        x = self.pool3(x)\n",
    "        x = x.view(-1, 30 * 3 *3)\n",
    "        x = F.leaky_relu(self.fc1(x),0.01)\n",
    "        x = self.fc2(x)\n",
    "        return F.log_softmax(x, dim = 1)"
   ]
  },
  {
   "cell_type": "code",
   "execution_count": 9,
   "metadata": {},
   "outputs": [],
   "source": [
    "# defining the relationship between input and output sizes for usage afterwards\n",
    "def outputsize(in_size,kernel_size,stride,padding):\n",
    "    output = int((in_size-kernel_size+2*(padding)) / stride) + 1\n",
    "    return output\n",
    "# defining the various hyperparameters\n",
    "epochs = 3 \n",
    "log_interval = 200\n",
    "network = Net()\n",
    "optimizer = optim.SGD(network.parameters(), lr = 0.1, momentum = 0.21)\n",
    "# creating counters for our results i.e for training losses, test losses, no. of sample trained and no.of samples tested\n",
    "train_losses = []\n",
    "train_counter = []\n",
    "test_losses = []\n",
    "test_counter = [i*len(training.dataset) for i in range(epochs+1)]"
   ]
  },
  {
   "cell_type": "code",
   "execution_count": 10,
   "metadata": {},
   "outputs": [],
   "source": [
    "# defining the training network\n",
    "def train(epoch):\n",
    "    network.train()\n",
    "    for batch_idx, (data,target) in enumerate(training):\n",
    "#       making all the gradients zero before the start of each epoch\n",
    "        optimizer.zero_grad()\n",
    "#     input output and backpropagation steps along with the application of NLL loss function for now\n",
    "        output = network(data)\n",
    "        loss = F.nll_loss(output, target)\n",
    "        loss.backward()\n",
    "        optimizer.step()\n",
    "#         printing the results after each mini batch has been trained during a particular epoch\n",
    "        if batch_idx % log_interval == 0:\n",
    "            print('Train Epoch: {} [{}/{} ({:.0f}%)]\\tLoss: {:.6f}'.format(epoch, batch_idx*len(data), len(training.dataset), 100. *batch_idx / len(training), loss.item()))\n",
    "            train_losses.append(loss.item())\n",
    "            train_counter.append((batch_idx*100) + ((epoch-1)*len(training.dataset)))\n",
    "            torch.save(network.state_dict(), '/results/model.pth')\n",
    "            torch.save(optimizer.state_dict(), '/results/optimizer.pth')\n",
    "    "
   ]
  },
  {
   "cell_type": "code",
   "execution_count": 11,
   "metadata": {},
   "outputs": [],
   "source": [
    "# defining the testing network\n",
    "def test():\n",
    "    network.eval()\n",
    "    test_loss = 0\n",
    "    correct = 0\n",
    "    losstest = []\n",
    "#   calculating the loss for each sample and the accuracy\n",
    "    with torch.no_grad():\n",
    "        for data, target in testing:\n",
    "            output = network(data)\n",
    "            test_loss += F.nll_loss(output, target, size_average = False).item()\n",
    "            pred = output.data.max(1, keepdim = True)[1]\n",
    "            correct += pred.eq(target.data.view_as(pred)).sum()\n",
    "#         initialising the various parameters to calculate accuracy and print it\n",
    "        test_loss /= len(testing.dataset)\n",
    "        losstest.append(test_loss)\n",
    "        print('\\nTest set: Avg. Loss: {:.4f}, Accuracy: {}/{} ({:.0f}%)\\n'.format(test_loss, correct, len(testing.dataset), 100. *correct / len(testing.dataset)))\n",
    "        \n",
    "    "
   ]
  },
  {
   "cell_type": "code",
   "execution_count": 12,
   "metadata": {},
   "outputs": [
    {
     "name": "stderr",
     "output_type": "stream",
     "text": [
      "C:\\Users\\admin\\Anaconda3\\lib\\site-packages\\torch\\nn\\_reduction.py:49: UserWarning: size_average and reduce args will be deprecated, please use reduction='sum' instead.\n",
      "  warnings.warn(warning.format(ret))\n"
     ]
    },
    {
     "name": "stdout",
     "output_type": "stream",
     "text": [
      "\n",
      "Test set: Avg. Loss: 3.2966, Accuracy: 806/20800 (3%)\n",
      "\n",
      "Train Epoch: 0 [0/124800 (0%)]\tLoss: 3.299068\n",
      "Train Epoch: 0 [10000/124800 (8%)]\tLoss: 1.434469\n",
      "Train Epoch: 0 [20000/124800 (16%)]\tLoss: 0.571227\n",
      "Train Epoch: 0 [30000/124800 (24%)]\tLoss: 0.529121\n",
      "Train Epoch: 0 [40000/124800 (32%)]\tLoss: 0.279874\n",
      "Train Epoch: 0 [50000/124800 (40%)]\tLoss: 0.468942\n",
      "Train Epoch: 0 [60000/124800 (48%)]\tLoss: 0.168587\n",
      "Train Epoch: 0 [70000/124800 (56%)]\tLoss: 0.618071\n",
      "Train Epoch: 0 [80000/124800 (64%)]\tLoss: 0.254693\n",
      "Train Epoch: 0 [90000/124800 (72%)]\tLoss: 0.196140\n",
      "Train Epoch: 0 [100000/124800 (80%)]\tLoss: 0.179070\n",
      "Train Epoch: 0 [110000/124800 (88%)]\tLoss: 0.345670\n",
      "Train Epoch: 0 [120000/124800 (96%)]\tLoss: 0.460826\n",
      "\n",
      "Test set: Avg. Loss: 0.2681, Accuracy: 18925/20800 (90%)\n",
      "\n",
      "Train Epoch: 1 [0/124800 (0%)]\tLoss: 0.198423\n",
      "Train Epoch: 1 [10000/124800 (8%)]\tLoss: 0.298050\n",
      "Train Epoch: 1 [20000/124800 (16%)]\tLoss: 0.119221\n",
      "Train Epoch: 1 [30000/124800 (24%)]\tLoss: 0.198132\n",
      "Train Epoch: 1 [40000/124800 (32%)]\tLoss: 0.176608\n",
      "Train Epoch: 1 [50000/124800 (40%)]\tLoss: 0.069799\n",
      "Train Epoch: 1 [60000/124800 (48%)]\tLoss: 0.486028\n",
      "Train Epoch: 1 [70000/124800 (56%)]\tLoss: 0.196757\n",
      "Train Epoch: 1 [80000/124800 (64%)]\tLoss: 0.352153\n",
      "Train Epoch: 1 [90000/124800 (72%)]\tLoss: 0.112827\n",
      "Train Epoch: 1 [100000/124800 (80%)]\tLoss: 0.170279\n",
      "Train Epoch: 1 [110000/124800 (88%)]\tLoss: 0.133232\n",
      "Train Epoch: 1 [120000/124800 (96%)]\tLoss: 0.068536\n",
      "\n",
      "Test set: Avg. Loss: 0.2380, Accuracy: 19142/20800 (92%)\n",
      "\n",
      "Train Epoch: 2 [0/124800 (0%)]\tLoss: 0.203262\n",
      "Train Epoch: 2 [10000/124800 (8%)]\tLoss: 0.337951\n",
      "Train Epoch: 2 [20000/124800 (16%)]\tLoss: 0.145671\n",
      "Train Epoch: 2 [30000/124800 (24%)]\tLoss: 0.158361\n",
      "Train Epoch: 2 [40000/124800 (32%)]\tLoss: 0.142730\n",
      "Train Epoch: 2 [50000/124800 (40%)]\tLoss: 0.288431\n",
      "Train Epoch: 2 [60000/124800 (48%)]\tLoss: 0.234057\n",
      "Train Epoch: 2 [70000/124800 (56%)]\tLoss: 0.223571\n",
      "Train Epoch: 2 [80000/124800 (64%)]\tLoss: 0.260544\n",
      "Train Epoch: 2 [90000/124800 (72%)]\tLoss: 0.136406\n",
      "Train Epoch: 2 [100000/124800 (80%)]\tLoss: 0.326559\n",
      "Train Epoch: 2 [110000/124800 (88%)]\tLoss: 0.131547\n",
      "Train Epoch: 2 [120000/124800 (96%)]\tLoss: 0.113657\n",
      "\n",
      "Test set: Avg. Loss: 0.2170, Accuracy: 19350/20800 (93%)\n",
      "\n"
     ]
    }
   ],
   "source": [
    "# initializing the entire network with the datasets and using the above functions to calculate the accuracy\n",
    "# first checking the accuracy with random guesses(network uninitialised)\n",
    "test()\n",
    "for epoch in range(3):\n",
    "    train(epoch)\n",
    "    test()\n"
   ]
  },
  {
   "cell_type": "code",
   "execution_count": 14,
   "metadata": {},
   "outputs": [],
   "source": [
    "torch.save({'state_dict': network.state_dict()}, '/results/cnn_itsp')"
   ]
  },
  {
   "cell_type": "code",
   "execution_count": 24,
   "metadata": {},
   "outputs": [
    {
     "data": {
      "text/plain": [
       "tensor([[9]])"
      ]
     },
     "execution_count": 24,
     "metadata": {},
     "output_type": "execute_result"
    },
    {
     "data": {
      "image/png": "[encoded data removed]",
      "text/plain": [
       "<Figure size 432x288 with 1 Axes>"
      ]
     },
     "metadata": {
      "needs_background": "light"
     },
     "output_type": "display_data"
    }
   ],
   "source": [
    "from PIL import Image\n",
    "import PIL\n",
    "filters = [PIL.Image.NEAREST, PIL.Image.BILINEAR, PIL.Image.BICUBIC,  PIL.Image.ANTIALIAS]\n",
    "grey_scale = False\n",
    "i = 0\n",
    "for filter in filters:\n",
    "    im = Image.open(\"i [photoutils.com].jpeg\")\n",
    "    imag = im.resize((28, 28), filter)\n",
    "    if grey_scale is True:\n",
    "        imag = imag.convert('L')  # to resize image in gray scale\n",
    "    i = i + 1\n",
    "trans = torchvision.transforms.Compose([torchvision.transforms.Grayscale(num_output_channels = 1), torchvision.transforms.ToTensor(),])\n",
    "imag = trans(imag)\n",
    "imag = imag.resize_(1,28,28)\n",
    "imag = 1-imag\n",
    "imag = imag.unsqueeze(0)\n",
    "plt.imshow(imag[0][0], cmap = 'gray')\n",
    "output = network(imag)\n",
    "predict = output.data.max(1, keepdim = True)[1]\n",
    "predict"
   ]
  }
 ],
 "metadata": {
  "kernelspec": {
   "display_name": "Python 3",
   "language": "python",
   "name": "python3"
  },
  "language_info": {
   "codemirror_mode": {
    "name": "ipython",
    "version": 3
   },
   "file_extension": ".py",
   "mimetype": "text/x-python",
   "name": "python",
   "nbconvert_exporter": "python",
   "pygments_lexer": "ipython3",
   "version": "3.7.3"
  }
 },
 "nbformat": 4,
 "nbformat_minor": 2
}
