{
 "cells": [
  {
   "cell_type": "code",
   "execution_count": null,
   "metadata": {},
   "outputs": [],
   "source": [
    "#'words' is a list containing regions of image which could be words\n",
    "\n",
    "import cv2\n",
    "import numpy as np\n",
    "import os\n",
    "import Word\n",
    "\n",
    "def findWords(binary, path):\n",
    "\tkernelr2 = np.ones((3,9), np.uint8)\n",
    "\n",
    "\t#Pre-process input image\n",
    "\teroded = cv2.erode(binary, kernelr2, iterations = 1)\n",
    "\tinverted = cv2.bitwise_not(eroded)\n",
    "\n",
    "\t#Detect words\n",
    "\trectangles = []\n",
    "\tcontours,hierarchy = cv2.findContours(inverted, cv2.RETR_EXTERNAL, cv2.CHAIN_APPROX_SIMPLE)\n",
    "\tfor contour in contours:\n",
    "\t\tx,y,w,h = cv2.boundingRect(contour)\n",
    "\t\trow, col = eroded.shape\n",
    "\t\tif(w*h<row*col/220):#300\n",
    "\t\t\tcontinue\n",
    "\t\trectangles.append([x,y,w,h])\n",
    "\n",
    "\t#Scan and store words from left to right\n",
    "\twords = []\n",
    "\trectangles.sort(key = lambda x: x[0])\n",
    "\tfor rectangle in rectangles:\n",
    "\t\tx,y,w,h = rectangle\n",
    "\t\tword = binary[y:y+h,x:x+w].copy()\n",
    "\t\twords.append(word)\n",
    "\n",
    "\t#Make folders to save images and search for letters\n",
    "\ti=1\n",
    "\tfor word in words:\n",
    "\t\tword_path = path + \"/Word%d\" %i\n",
    "\t\tos.mkdir(word_path)\n",
    "\t\tcv2.imwrite(word_path + \"/word%d.jpg\" %i, word)\n",
    "\t\ti+=1\n",
    "\t\tWord.findLetters(word, word_path)"
   ]
  }
 ],
 "metadata": {
  "kernelspec": {
   "display_name": "Python 3",
   "language": "python",
   "name": "python3"
  },
  "language_info": {
   "codemirror_mode": {
    "name": "ipython",
    "version": 3
   },
   "file_extension": ".py",
   "mimetype": "text/x-python",
   "name": "python",
   "nbconvert_exporter": "python",
   "pygments_lexer": "ipython3",
   "version": "3.7.3"
  }
 },
 "nbformat": 4,
 "nbformat_minor": 2
}
