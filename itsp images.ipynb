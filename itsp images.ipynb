{
 "cells": [
  {
   "cell_type": "code",
   "execution_count": 2,
   "metadata": {},
   "outputs": [
    {
     "ename": "ModuleNotFoundError",
     "evalue": "No module named 'Block'",
     "output_type": "error",
     "traceback": [
      "\u001b[1;31m---------------------------------------------------------------------------\u001b[0m",
      "\u001b[1;31mModuleNotFoundError\u001b[0m                       Traceback (most recent call last)",
      "\u001b[1;32m<ipython-input-2-63a39e1c4f33>\u001b[0m in \u001b[0;36m<module>\u001b[1;34m\u001b[0m\n\u001b[0;32m      5\u001b[0m \u001b[1;32mimport\u001b[0m \u001b[0mnumpy\u001b[0m \u001b[1;32mas\u001b[0m \u001b[0mnp\u001b[0m\u001b[1;33m\u001b[0m\u001b[1;33m\u001b[0m\u001b[0m\n\u001b[0;32m      6\u001b[0m \u001b[1;32mimport\u001b[0m \u001b[0mos\u001b[0m\u001b[1;33m\u001b[0m\u001b[1;33m\u001b[0m\u001b[0m\n\u001b[1;32m----> 7\u001b[1;33m \u001b[1;32mimport\u001b[0m \u001b[0mBlock\u001b[0m\u001b[1;33m\u001b[0m\u001b[1;33m\u001b[0m\u001b[0m\n\u001b[0m\u001b[0;32m      8\u001b[0m \u001b[1;33m\u001b[0m\u001b[0m\n\u001b[0;32m      9\u001b[0m \u001b[0mimg\u001b[0m \u001b[1;33m=\u001b[0m \u001b[0mcv2\u001b[0m\u001b[1;33m.\u001b[0m\u001b[0mimread\u001b[0m\u001b[1;33m(\u001b[0m\u001b[1;34mr\"C:\\Users\\admin\\c.jpeg\"\u001b[0m\u001b[1;33m)\u001b[0m      \u001b[1;31m#Full path of image to be scanned\u001b[0m\u001b[1;33m\u001b[0m\u001b[1;33m\u001b[0m\u001b[0m\n",
      "\u001b[1;31mModuleNotFoundError\u001b[0m: No module named 'Block'"
     ]
    }
   ],
   "source": [
    "#Works for particular font sizes only\n",
    "#'blocks' is a list containing regions of image which could be paragraphs\n",
    "\n",
    "import cv2\n",
    "import numpy as np\n",
    "import os\n",
    "import Block\n",
    "\n",
    "img = cv2.imread(r\"C:\\Users\\admin\\c.jpeg\")\t#Full path of image to be scanned\n",
    "path = \"C:/Users/admin/itsp_project\"\t#Example \"C:/Users/AKHILESH/Desktop/<foldername>\" Images will be stored in this folder\n",
    "#path can be obtained by checking 'properties' of any other file/folder at that location\n",
    "\n",
    "#`````````````````You don't need to change anything beyond this``````````````````````\n",
    "kernel3 = np.ones((3,3), np.uint8)\n",
    "kernelr1 = np.ones((7,13), np.uint8)\n",
    "kernel25 = np.ones((25,25), np.uint8)\n",
    "\n",
    "#Take image input and pre-process it to get a binary image to work on\n",
    "gray = cv2.cvtColor(img, cv2.COLOR_BGR2GRAY)\n",
    "binary = cv2.adaptiveThreshold(gray, 255, cv2.ADAPTIVE_THRESH_MEAN_C, cv2.THRESH_BINARY, 55, 5)\n",
    "closed = cv2.morphologyEx(binary, cv2.MORPH_CLOSE, kernel3)\n",
    "eroded = cv2.erode(closed, kernelr1, iterations = 1)\n",
    "inverted = cv2.bitwise_not(eroded)\n",
    "\n",
    "#Get location of features\n",
    "contours,hierarchy = cv2.findContours(inverted, cv2.RETR_EXTERNAL, cv2.CHAIN_APPROX_SIMPLE)\n",
    "board1 = np.zeros(eroded.shape, np.uint8)\n",
    "for contour in contours:\n",
    "\tx,y,w,h = cv2.boundingRect(contour)\n",
    "\trow, col = eroded.shape\n",
    "\tif(h>row/2 or w>col/2 or w*h<row*col/10000 or h<30 or h>90):\n",
    "\t\tcv2.rectangle(img, (x+3,y+3), (x+w-3,y+h-3), 255, 3)\n",
    "\t\tcontinue\n",
    "\tcv2.rectangle(board1, (x+3,y+3), (x+w-3,y+h-3), 255, 3)\n",
    "\n",
    "#Separate regions of a particular size and recognize clusters\n",
    "#Store cluster in blocks[]\n",
    "blocks = []\n",
    "dilated = cv2.dilate(board1, kernel25, iterations = 1)\n",
    "contours,hierarchy = cv2.findContours(dilated, cv2.RETR_EXTERNAL, cv2.CHAIN_APPROX_SIMPLE)\n",
    "for contour in contours:\n",
    "\tx,y,w,h = cv2.boundingRect(contour)\n",
    "\tblock = closed[y:y+h+3,x:x+w].copy()\n",
    "\tblocks.insert(0,block)\n",
    "\tcv2.rectangle(img, (x+3,y+3), (x+w-3,y+h-3), (0,0,255), 3)\n",
    "\n",
    "#Make folders to save images and search for lines\n",
    "i=1\n",
    "for block in blocks:\n",
    "\tblock_path = path + \"/Block%d\" %i\n",
    "\tos.mkdir(block_path)\n",
    "\tcv2.imwrite(block_path + \"/block%d.jpg\" %i, block)\n",
    "\ti+=1\n",
    "\tBlock.findLines(block, block_path)"
   ]
  },
  {
   "cell_type": "code",
   "execution_count": null,
   "metadata": {},
   "outputs": [],
   "source": []
  }
 ],
 "metadata": {
  "kernelspec": {
   "display_name": "Python 3",
   "language": "python",
   "name": "python3"
  },
  "language_info": {
   "codemirror_mode": {
    "name": "ipython",
    "version": 3
   },
   "file_extension": ".py",
   "mimetype": "text/x-python",
   "name": "python",
   "nbconvert_exporter": "python",
   "pygments_lexer": "ipython3",
   "version": "3.7.3"
  }
 },
 "nbformat": 4,
 "nbformat_minor": 2
}
